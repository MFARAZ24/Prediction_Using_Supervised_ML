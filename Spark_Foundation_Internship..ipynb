{
 "cells": [
  {
   "cell_type": "markdown",
   "id": "fc3b7188",
   "metadata": {},
   "source": [
    "# Data Science Internship\n",
    "# Prediction Using Supervised ML\n",
    "# M.Faraz Shoaib "
   ]
  },
  {
   "cell_type": "markdown",
   "id": "5659a274",
   "metadata": {},
   "source": [
    "## Importing Libraries and Data"
   ]
  },
  {
   "cell_type": "code",
   "execution_count": 3,
   "id": "e8a70f3b",
   "metadata": {},
   "outputs": [],
   "source": [
    "import pandas as pd\n",
    "import numpy as np\n",
    "import matplotlib.pyplot as plt\n",
    "from sklearn import linear_model"
   ]
  },
  {
   "cell_type": "code",
   "execution_count": 4,
   "id": "ec07d15f",
   "metadata": {},
   "outputs": [],
   "source": [
    "d_frame = pd.read_csv('https://raw.githubusercontent.com/AdiPersonalWorks/Random/master/student_scores%20-%20student_scores.csv')"
   ]
  },
  {
   "cell_type": "code",
   "execution_count": 5,
   "id": "7c5fa601",
   "metadata": {},
   "outputs": [
    {
     "name": "stdout",
     "output_type": "stream",
     "text": [
      "    Hours  Scores\n",
      "0     2.5      21\n",
      "1     5.1      47\n",
      "2     3.2      27\n",
      "3     8.5      75\n",
      "4     3.5      30\n",
      "5     1.5      20\n",
      "6     9.2      88\n",
      "7     5.5      60\n",
      "8     8.3      81\n",
      "9     2.7      25\n",
      "10    7.7      85\n",
      "11    5.9      62\n",
      "12    4.5      41\n",
      "13    3.3      42\n",
      "14    1.1      17\n",
      "15    8.9      95\n",
      "16    2.5      30\n",
      "17    1.9      24\n",
      "18    6.1      67\n",
      "19    7.4      69\n",
      "20    2.7      30\n",
      "21    4.8      54\n",
      "22    3.8      35\n",
      "23    6.9      76\n",
      "24    7.8      86\n"
     ]
    }
   ],
   "source": [
    "print(d_frame)"
   ]
  },
  {
   "cell_type": "markdown",
   "id": "146b39bb",
   "metadata": {},
   "source": [
    "## Info about data\n"
   ]
  },
  {
   "cell_type": "code",
   "execution_count": 6,
   "id": "4660f93d",
   "metadata": {},
   "outputs": [
    {
     "name": "stdout",
     "output_type": "stream",
     "text": [
      "<class 'pandas.core.frame.DataFrame'>\n",
      "RangeIndex: 25 entries, 0 to 24\n",
      "Data columns (total 2 columns):\n",
      " #   Column  Non-Null Count  Dtype  \n",
      "---  ------  --------------  -----  \n",
      " 0   Hours   25 non-null     float64\n",
      " 1   Scores  25 non-null     int64  \n",
      "dtypes: float64(1), int64(1)\n",
      "memory usage: 528.0 bytes\n"
     ]
    }
   ],
   "source": [
    "d_frame.info()"
   ]
  },
  {
   "cell_type": "markdown",
   "id": "a9b6d6d6",
   "metadata": {},
   "source": [
    "## Checking Correlation in Data"
   ]
  },
  {
   "cell_type": "code",
   "execution_count": 7,
   "id": "b47d3fba",
   "metadata": {},
   "outputs": [
    {
     "data": {
      "text/html": [
       "<div>\n",
       "<style scoped>\n",
       "    .dataframe tbody tr th:only-of-type {\n",
       "        vertical-align: middle;\n",
       "    }\n",
       "\n",
       "    .dataframe tbody tr th {\n",
       "        vertical-align: top;\n",
       "    }\n",
       "\n",
       "    .dataframe thead th {\n",
       "        text-align: right;\n",
       "    }\n",
       "</style>\n",
       "<table border=\"1\" class=\"dataframe\">\n",
       "  <thead>\n",
       "    <tr style=\"text-align: right;\">\n",
       "      <th></th>\n",
       "      <th>Hours</th>\n",
       "      <th>Scores</th>\n",
       "    </tr>\n",
       "  </thead>\n",
       "  <tbody>\n",
       "    <tr>\n",
       "      <th>Hours</th>\n",
       "      <td>1.000000</td>\n",
       "      <td>0.976191</td>\n",
       "    </tr>\n",
       "    <tr>\n",
       "      <th>Scores</th>\n",
       "      <td>0.976191</td>\n",
       "      <td>1.000000</td>\n",
       "    </tr>\n",
       "  </tbody>\n",
       "</table>\n",
       "</div>"
      ],
      "text/plain": [
       "           Hours    Scores\n",
       "Hours   1.000000  0.976191\n",
       "Scores  0.976191  1.000000"
      ]
     },
     "execution_count": 7,
     "metadata": {},
     "output_type": "execute_result"
    }
   ],
   "source": [
    "d_frame.corr()"
   ]
  },
  {
   "cell_type": "markdown",
   "id": "5d019fdb",
   "metadata": {},
   "source": [
    "## Plotting data "
   ]
  },
  {
   "cell_type": "code",
   "execution_count": 62,
   "id": "cb5d5496",
   "metadata": {},
   "outputs": [
    {
     "data": {
      "text/plain": [
       "Text(0.5, 1.0, 'Hours Vs Scores')"
      ]
     },
     "execution_count": 62,
     "metadata": {},
     "output_type": "execute_result"
    },
    {
     "data": {
      "image/png": "[encoded data removed]",
      "text/plain": [
       "<Figure size 640x480 with 1 Axes>"
      ]
     },
     "metadata": {},
     "output_type": "display_data"
    }
   ],
   "source": [
    "%matplotlib inline\n",
    "plt.scatter(d_frame.Hours,d_frame.Scores)\n",
    "plt.xlabel(\"No. of Hours\")\n",
    "plt.ylabel(\"Scores Achieved\")\n",
    "plt.title(\"Hours Vs Scores\")"
   ]
  },
  {
   "cell_type": "markdown",
   "id": "621eaea7",
   "metadata": {},
   "source": [
    "## Separating attributes and labels\n",
    "Inputs contain the independent variable (hours) and outputs contain the dependent variable (scores)"
   ]
  },
  {
   "cell_type": "code",
   "execution_count": 30,
   "id": "9e8ea647",
   "metadata": {},
   "outputs": [],
   "source": [
    "inputs=d_frame.iloc[:,:-1].values\n",
    "outputs=d_frame.iloc[:,1].values"
   ]
  },
  {
   "cell_type": "code",
   "execution_count": 9,
   "id": "5ef2ba8b",
   "metadata": {},
   "outputs": [
    {
     "data": {
      "text/plain": [
       "(25, 1)"
      ]
     },
     "execution_count": 9,
     "metadata": {},
     "output_type": "execute_result"
    }
   ],
   "source": [
    "inputs.shape"
   ]
  },
  {
   "cell_type": "code",
   "execution_count": 10,
   "id": "e1ceb1a1",
   "metadata": {},
   "outputs": [
    {
     "data": {
      "text/plain": [
       "(25,)"
      ]
     },
     "execution_count": 10,
     "metadata": {},
     "output_type": "execute_result"
    }
   ],
   "source": [
    "outputs.shape"
   ]
  },
  {
   "cell_type": "markdown",
   "id": "a2fd7cc7",
   "metadata": {},
   "source": [
    "# Now spliting the values of both inputs and outputs for training and testing our model"
   ]
  },
  {
   "cell_type": "code",
   "execution_count": 11,
   "id": "b4273658",
   "metadata": {},
   "outputs": [],
   "source": [
    "from sklearn.model_selection import train_test_split\n",
    "X_train,X_test,y_train,y_test = train_test_split(inputs, outputs, test_size = 0.2, random_state = 0)\n"
   ]
  },
  {
   "cell_type": "code",
   "execution_count": 35,
   "id": "fcae85c8",
   "metadata": {},
   "outputs": [
    {
     "name": "stdout",
     "output_type": "stream",
     "text": [
      "Trained\n"
     ]
    }
   ],
   "source": [
    "from sklearn.linear_model import LinearRegression\n",
    "reg = LinearRegression()\n",
    "reg.fit(X_train, y_train)\n",
    "print(\"Trained\")"
   ]
  },
  {
   "cell_type": "code",
   "execution_count": 48,
   "id": "907da8ed",
   "metadata": {},
   "outputs": [],
   "source": [
    "#Making prediction with test Data\n",
    "\n",
    "y_p = reg.predict(X_test) \n",
    "\n"
   ]
  },
  {
   "cell_type": "markdown",
   "id": "baf24bb4",
   "metadata": {},
   "source": [
    "## Difference between Y actual and Y predicted by this model"
   ]
  },
  {
   "cell_type": "code",
   "execution_count": 14,
   "id": "1b478313",
   "metadata": {},
   "outputs": [
    {
     "data": {
      "text/html": [
       "<div>\n",
       "<style scoped>\n",
       "    .dataframe tbody tr th:only-of-type {\n",
       "        vertical-align: middle;\n",
       "    }\n",
       "\n",
       "    .dataframe tbody tr th {\n",
       "        vertical-align: top;\n",
       "    }\n",
       "\n",
       "    .dataframe thead th {\n",
       "        text-align: right;\n",
       "    }\n",
       "</style>\n",
       "<table border=\"1\" class=\"dataframe\">\n",
       "  <thead>\n",
       "    <tr style=\"text-align: right;\">\n",
       "      <th></th>\n",
       "      <th>Actual</th>\n",
       "      <th>Predicted</th>\n",
       "    </tr>\n",
       "  </thead>\n",
       "  <tbody>\n",
       "    <tr>\n",
       "      <th>0</th>\n",
       "      <td>20</td>\n",
       "      <td>16.884145</td>\n",
       "    </tr>\n",
       "    <tr>\n",
       "      <th>1</th>\n",
       "      <td>27</td>\n",
       "      <td>33.732261</td>\n",
       "    </tr>\n",
       "    <tr>\n",
       "      <th>2</th>\n",
       "      <td>69</td>\n",
       "      <td>75.357018</td>\n",
       "    </tr>\n",
       "    <tr>\n",
       "      <th>3</th>\n",
       "      <td>30</td>\n",
       "      <td>26.794801</td>\n",
       "    </tr>\n",
       "    <tr>\n",
       "      <th>4</th>\n",
       "      <td>62</td>\n",
       "      <td>60.491033</td>\n",
       "    </tr>\n",
       "  </tbody>\n",
       "</table>\n",
       "</div>"
      ],
      "text/plain": [
       "   Actual  Predicted\n",
       "0      20  16.884145\n",
       "1      27  33.732261\n",
       "2      69  75.357018\n",
       "3      30  26.794801\n",
       "4      62  60.491033"
      ]
     },
     "execution_count": 14,
     "metadata": {},
     "output_type": "execute_result"
    }
   ],
   "source": [
    "import array as arr\n",
    "d_fr = pd.DataFrame({'Actual': y_test.flatten(), 'Predicted': y_p.flatten()})\n",
    "d_fr"
   ]
  },
  {
   "cell_type": "markdown",
   "id": "9cd87afd",
   "metadata": {},
   "source": [
    "## Visualizing Model"
   ]
  },
  {
   "cell_type": "code",
   "execution_count": 44,
   "id": "fffff345",
   "metadata": {},
   "outputs": [
    {
     "data": {
      "text/plain": [
       "[<matplotlib.lines.Line2D at 0x21f71caa140>]"
      ]
     },
     "execution_count": 44,
     "metadata": {},
     "output_type": "execute_result"
    },
    {
     "data": {
      "image/png": "[encoded data removed]",
      "text/plain": [
       "<Figure size 640x480 with 1 Axes>"
      ]
     },
     "metadata": {},
     "output_type": "display_data"
    }
   ],
   "source": [
    "line = reg.coef_*inputs + reg.intercept_\n",
    "plt.scatter(d_frame.Hours,d_frame.Scores)\n",
    "plt.xlabel(\"No. of Hours\")\n",
    "plt.ylabel(\"Scores Achieved\")\n",
    "plt.title(\"Hours Vs Scores\")\n",
    "\n",
    "plt.plot(inputs,line, color = \"red\")\n"
   ]
  },
  {
   "cell_type": "markdown",
   "id": "579336e2",
   "metadata": {},
   "source": [
    "## Prediction for 9.25 hours"
   ]
  },
  {
   "cell_type": "code",
   "execution_count": 57,
   "id": "4db44468",
   "metadata": {},
   "outputs": [
    {
     "name": "stdout",
     "output_type": "stream",
     "text": [
      "The score is:  [93.69173249]\n"
     ]
    }
   ],
   "source": [
    "print(\"The score is: \",reg.predict([[9.25]]))"
   ]
  },
  {
   "cell_type": "markdown",
   "id": "4850054a",
   "metadata": {},
   "source": [
    "## Evaluation of Model"
   ]
  },
  {
   "cell_type": "code",
   "execution_count": 63,
   "id": "e8ef660c",
   "metadata": {},
   "outputs": [
    {
     "name": "stdout",
     "output_type": "stream",
     "text": [
      "Mean absolut error is: 4.183859899002975\n",
      "Mean Squared error is: 21.5987693072174\n",
      "Root mean Square error is: 4.6474476121003665\n"
     ]
    }
   ],
   "source": [
    "from sklearn import metrics\n",
    "from math import sqrt\n",
    "print(\"Mean absolut error is:\",metrics.mean_absolute_error(y_test,y_p))\n",
    "print(\"Mean Squared error is:\", metrics.mean_squared_error(y_test,y_p))\n",
    "print(\"Root mean Square error is:\",sqrt(metrics.mean_squared_error(y_test,y_p)))"
   ]
  },
  {
   "cell_type": "markdown",
   "id": "1a5dbd7a",
   "metadata": {},
   "source": [
    "# Thank You"
   ]
  },
  {
   "cell_type": "code",
   "execution_count": null,
   "id": "b4763dd9",
   "metadata": {},
   "outputs": [],
   "source": []
  }
 ],
 "metadata": {
  "kernelspec": {
   "display_name": "Python 3 (ipykernel)",
   "language": "python",
   "name": "python3"
  },
  "language_info": {
   "codemirror_mode": {
    "name": "ipython",
    "version": 3
   },
   "file_extension": ".py",
   "mimetype": "text/x-python",
   "name": "python",
   "nbconvert_exporter": "python",
   "pygments_lexer": "ipython3",
   "version": "3.10.9"
  }
 },
 "nbformat": 4,
 "nbformat_minor": 5
}
